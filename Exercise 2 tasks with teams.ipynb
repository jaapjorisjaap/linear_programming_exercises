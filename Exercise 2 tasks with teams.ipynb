{
 "cells": [
  {
   "cell_type": "markdown",
   "metadata": {},
   "source": [
    "This time we do something similar, but we have teams.  Each team should perform 2 of the tasks, we still want to minimize the costs.\n",
    "\n",
    "Expected outcome:\n",
    "worker 0 performs task 2 with cost: 75 <br>\n",
    "worker 1 performs task 0 with cost: 35 <br>\n",
    "worker 4 performs task 3 with cost: 75 <br>\n",
    "worker 5 performs task 1 with cost: 65 <br>\n",
    "Total cost becomes: 250"
   ]
  },
  {
   "cell_type": "code",
   "execution_count": null,
   "metadata": {},
   "outputs": [],
   "source": [
    "from pulp import *\n",
    "\n",
    "costs = [[90, 76, 75, 70],\n",
    "          [35, 85, 55, 65],\n",
    "          [125, 95, 90, 105],\n",
    "          [45, 110, 95, 115],\n",
    "          [60, 105, 80, 75],\n",
    "          [45, 65, 110, 95]]\n",
    "\n",
    "#Teams consisting of the members\n",
    "team1 = [0, 2, 4] \n",
    "team2 = [1, 3, 5]\n",
    "\n",
    "#Max tasks the team can perform. \n",
    "team_max = 2"
   ]
  }
 ],
 "metadata": {
  "kernelspec": {
   "display_name": "Python 3",
   "language": "python",
   "name": "python3"
  },
  "language_info": {
   "codemirror_mode": {
    "name": "ipython",
    "version": 3
   },
   "file_extension": ".py",
   "mimetype": "text/x-python",
   "name": "python",
   "nbconvert_exporter": "python",
   "pygments_lexer": "ipython3",
   "version": "3.8.3"
  }
 },
 "nbformat": 4,
 "nbformat_minor": 4
}
